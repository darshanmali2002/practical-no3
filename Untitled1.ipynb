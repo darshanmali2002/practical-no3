{
  "nbformat": 4,
  "nbformat_minor": 0,
  "metadata": {
    "colab": {
      "name": "Untitled1.ipynb",
      "provenance": []
    },
    "kernelspec": {
      "name": "python3",
      "display_name": "Python 3"
    },
    "language_info": {
      "name": "python"
    }
  },
  "cells": [
    {
      "cell_type": "markdown",
      "source": [
        "NO:3 Different type of Arithmetic operator on numbers\n",
        "\n",
        "I"
      ],
      "metadata": {
        "id": "k6-aaD7pSYJK"
      }
    },
    {
      "cell_type": "code",
      "source": [
        "\n",
        "\n",
        "x = 5\n",
        "y = 3\n",
        "\n",
        "print(x + y)\n",
        "#Addition\n",
        "\n",
        "x = 5\n",
        "y = 3\n",
        "\n",
        "print(x - y)\n",
        "#Substraction\n",
        "\n",
        "x = 5\n",
        "y = 3\n",
        "\n",
        "print(x * y)\n",
        "#Multiplication\n",
        "\n",
        "x = 12\n",
        "y = 3\n",
        "\n",
        "print(x / y)\n",
        "#Division\n",
        "\n",
        "x = 5\n",
        "y = 2\n",
        "\n",
        "print(x % y)\n",
        "#Nodulus"
      ],
      "metadata": {
        "colab": {
          "base_uri": "https://localhost:8080/"
        },
        "id": "W2lic7YOScDy",
        "outputId": "3b938e23-2567-4691-92bb-d18d91f50432"
      },
      "execution_count": 11,
      "outputs": [
        {
          "output_type": "stream",
          "name": "stdout",
          "text": [
            "8\n",
            "2\n",
            "15\n",
            "4.0\n",
            "1\n"
          ]
        }
      ]
    }
  ]
}